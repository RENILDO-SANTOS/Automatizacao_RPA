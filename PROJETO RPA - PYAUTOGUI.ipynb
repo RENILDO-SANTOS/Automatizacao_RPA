{
 "cells": [
  {
   "cell_type": "code",
   "execution_count": 2,
   "id": "233d0c01",
   "metadata": {},
   "outputs": [
    {
     "name": "stdout",
     "output_type": "stream",
     "text": [
      "DIGITE SEU EMAIL: renildosantos626@gmail.com\n"
     ]
    },
    {
     "data": {
      "text/plain": [
       "'OK'"
      ]
     },
     "execution_count": 2,
     "metadata": {},
     "output_type": "execute_result"
    }
   ],
   "source": [
    "# PROJETO R P A : (ROBOTIC PROCESS AUTOMATION)\n",
    "# AUTOMATIZANDO ENVIO DE EMAIL\n",
    "\n",
    "import pyautogui\n",
    "import time\n",
    "import pandas as pd\n",
    "import pyperclip\n",
    "\n",
    "# ENTRE COM O EMAIL PARA O QUAL SERÁ ENVIADO O ARQUIVO\n",
    "email = input('DIGITE SEU EMAIL: ')\n",
    "\n",
    "#pyautogui.write() >>>> escreve\n",
    "#pyautogui.click >>>> clicar\n",
    "#pyautogui.locateOnScreen >>>> identifica uma imagem na sua tela\n",
    "#pyautogui.hotkey >>>> usa atalhos do teclado\n",
    "#pyautogui.press >>>> aperta um botão do teclado\n",
    "\n",
    "# ALERTA PARA O USUÁRIO INICIAR O PROCESSO\n",
    "pyautogui.alert('APERTE (OK) E AGUARDE ENQUANTO RODA O SISTEMA!!!')\n",
    "\n",
    "pyautogui.PAUSE = 3\n",
    "pyautogui.press('win')\n",
    "pyautogui.write('google chrome')\n",
    "pyautogui.press('enter')\n",
    "pyautogui.write('gmail')\n",
    "pyautogui.press('enter')\n",
    "x, y, largura, altura = pyautogui.locateOnScreen('link_gmail.png')\n",
    "pyautogui.click(x + largura/2, y + altura/2 )\n",
    "time.sleep(3)\n",
    "\n",
    "# ABRIR CAMPO DE EMAIL E ESCREVER \n",
    "x, y, largura, altura = pyautogui.locateOnScreen('escrever_email.png')\n",
    "pyautogui.click(x + largura/2, y + altura/2 )\n",
    "time.sleep(2)\n",
    "     \n",
    "pyautogui.write(email)\n",
    "pyautogui.press('enter')\n",
    "pyautogui.press('tab')\n",
    "pyautogui.write('Relatorio de faturamento')\n",
    "pyautogui.press('tab')\n",
    "    \n",
    "texto = \"\"\"\n",
    "    Caro,\n",
    "    \n",
    "    Segue relatório referente ao faturamento do mês vigente.\n",
    "    \n",
    "    Att.\"\"\"\n",
    "    \n",
    "pyperclip.copy(texto)\n",
    "pyautogui.hotkey('ctrl', 'v')\n",
    "pyautogui.hotkey('ctrl', 'enter')\n",
    "\n",
    "# USUÁRIO RECEBE AVISO NA TELA QUE O PROCESSO FOI FINALIZADO.\n",
    "pyautogui.alert('FINALIZADO!!!')   "
   ]
  },
  {
   "cell_type": "code",
   "execution_count": null,
   "id": "26c97078",
   "metadata": {},
   "outputs": [],
   "source": []
  }
 ],
 "metadata": {
  "kernelspec": {
   "display_name": "Python 3",
   "language": "python",
   "name": "python3"
  },
  "language_info": {
   "codemirror_mode": {
    "name": "ipython",
    "version": 3
   },
   "file_extension": ".py",
   "mimetype": "text/x-python",
   "name": "python",
   "nbconvert_exporter": "python",
   "pygments_lexer": "ipython3",
   "version": "3.8.8"
  }
 },
 "nbformat": 4,
 "nbformat_minor": 5
}
